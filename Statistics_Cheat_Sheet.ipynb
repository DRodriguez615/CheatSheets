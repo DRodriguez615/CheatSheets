{
  "nbformat": 4,
  "nbformat_minor": 0,
  "metadata": {
    "colab": {
      "name": "Statistics Cheat Sheet.ipynb",
      "provenance": [],
      "include_colab_link": true
    },
    "kernelspec": {
      "name": "python3",
      "display_name": "Python 3"
    }
  },
  "cells": [
    {
      "cell_type": "markdown",
      "metadata": {
        "id": "view-in-github",
        "colab_type": "text"
      },
      "source": [
        "<a href=\"https://colab.research.google.com/github/bundickm/CheatSheets/blob/master/Statistics_Cheat_Sheet.ipynb\" target=\"_parent\"><img src=\"https://colab.research.google.com/assets/colab-badge.svg\" alt=\"Open In Colab\"/></a>"
      ]
    },
    {
      "cell_type": "markdown",
      "metadata": {
        "id": "oyWZZqC69qfG",
        "colab_type": "text"
      },
      "source": [
        "#Resources\n",
        "[Numpy Documentation](https://docs.scipy.org/doc/numpy-1.16.1/reference/)\n",
        "\n",
        "[Scipy.stats Documentation](https://docs.scipy.org/doc/scipy-1.2.1/reference/tutorial/stats.html)\n"
      ]
    },
    {
      "cell_type": "markdown",
      "metadata": {
        "id": "FNG_8ESyxFL7",
        "colab_type": "text"
      },
      "source": [
        "#Definitions\n",
        "**Set**: A collection of distinct entities regarded as a unit, being either individually specified or (more usually) satisfying specified conditions. See the Python class [`set()` ](https://docs.python.org/3/library/stdtypes.html#set) \n",
        "\n",
        "**Subset**: If a set `A` in which all members are also members of another set `B`, then set `A` is considered to be a subset of `B`\n",
        "\n",
        "**Empty Set**: A set without any members. The empty set is a subset of all other sets\n",
        "\n",
        "**Universal Set**: The set that all other sets are a subset of\n",
        "\n",
        "**Combination**: A selection of a given number of elements from a larger number without regard to their arrangement $nCr = \\frac{n!}{r!(n-r)!}$\n",
        "\n",
        "**Permutation**: A selection of a given number of elements from a set with concern for ordering $nPr = \\frac{n!}{(n-r)!}$\n",
        "\n",
        "**Degrees of Freedom**: the number of independent values or quantities which can be assigned to a statistical distribution. \n",
        "\n",
        "**Sample**: A group of individual observations drawn from a population, usually at random, and with the assumption that the sample mean and population mean will be equal. The larger the sample size, the closer the sample mean and population mean will actually be.\n",
        "\n",
        "**Null Hypothesis**: A general statement or default position that there is no relationship between two measured phenomena, or no association among groups. \"The boring\" choice, nothing special is happening.\n",
        "\n",
        "**Statistical Significance**: a result has statistical significance when it is very unlikely to have occurred given the null hypothesis (usually indicated by a p-value < .05)\n",
        "\n",
        "**Student's T-test**: A set of statistical hypothesis tests applied in cases where the test statistic is distributed normally (a very typical situation), but the standard deviation of the population is unknown (typical for many real-world situations). It is a relaxed version of Z-tests which assumes more strict normality and a known standard deviation. The larger the t-test statistic the more 'unusual' the result, while the p-value determines whether that result is considered statistically significant (disproving the null hypothesis). \n",
        "\n",
        "Two common t-test are:\n",
        "- A [one-sample test](https://docs.scipy.org/doc/scipy/reference/generated/scipy.stats.ttest_1samp.html#scipy.stats.ttest_1samp) of whether the mean of a population has a value specified in a null hypothesis.\n",
        "- A [two-sample test](https://docs.scipy.org/doc/scipy/reference/generated/scipy.stats.ttest_ind.html#scipy.stats.ttest_ind) of the null hypothesis such that the means of two populations are equal."
      ]
    },
    {
      "cell_type": "code",
      "metadata": {
        "id": "7C1ecZQMBoLv",
        "colab_type": "code",
        "colab": {}
      },
      "source": [
        "#one sample t-test\n",
        "from scipy import stats\n",
        "\n",
        "stats.ttest_1samp(df_subset['feature'],df['feature'].mean()"
      ],
      "execution_count": 0,
      "outputs": []
    },
    {
      "cell_type": "code",
      "metadata": {
        "id": "LXbWjthLCNj1",
        "colab_type": "code",
        "colab": {}
      },
      "source": [
        "#two sample t-test\n",
        "\n",
        "stats.ttest_ind(df1['feature'], df2['feature'])"
      ],
      "execution_count": 0,
      "outputs": []
    },
    {
      "cell_type": "markdown",
      "metadata": {
        "id": "Gc3h1_zgC2yG",
        "colab_type": "text"
      },
      "source": [
        "**Chi Square Test**: Used to test the independence of rows or columns (null hypothesis is independent), usually with categorical variables. \n",
        "- [Chi Square Documentation](https://docs.scipy.org/doc/scipy/reference/generated/scipy.stats.chisquare.html)\n",
        "- [Chi Square Contingency Documentation](https://docs.scipy.org/doc/scipy/reference/generated/scipy.stats.chi2_contingency.html)  Related: [Contingency Table](https://en.wikipedia.org/wiki/Contingency_table)"
      ]
    },
    {
      "cell_type": "code",
      "metadata": {
        "id": "s-r7kLUBC4F7",
        "colab_type": "code",
        "colab": {}
      },
      "source": [
        "from scipy.stats import chisquare\n",
        "# The null hypothesis is that the rows/cols are independent -> low chi square\n",
        "# The alternative is that there is a dependence -> high chi square\n",
        "\n",
        "chisquare(observations, axis=None)"
      ],
      "execution_count": 0,
      "outputs": []
    },
    {
      "cell_type": "code",
      "metadata": {
        "id": "NeFCl-asD3X_",
        "colab_type": "code",
        "colab": {}
      },
      "source": [
        "from scipy.stats import chi2_contingency\n",
        "\n",
        "#Chi^2 from contingency table\n",
        "chi_squared, p_value, dof, expected = stats.chi2_contingency(contingency_table)"
      ],
      "execution_count": 0,
      "outputs": []
    },
    {
      "cell_type": "markdown",
      "metadata": {
        "id": "jC2HqMDqBmR5",
        "colab_type": "text"
      },
      "source": [
        "**Confidence Interval**: Given a sample, the confidence interval is a calculated range that an unknown population parameter (such as mean) is likely to be within. A 95% confidence interval means there is a 95% chance that the unknown parameter is within the range calculated."
      ]
    },
    {
      "cell_type": "code",
      "metadata": {
        "id": "HtR5R8ifwoYV",
        "colab_type": "code",
        "colab": {}
      },
      "source": [
        "# Confidence intervals\n",
        "import numpy as np\n",
        "from scipy import stats\n",
        "\n",
        "def confidence_interval(data, confidence=0.95):\n",
        "  data = np.array(data)\n",
        "  mean = np.mean(data)\n",
        "  n = len(data)\n",
        "  \n",
        "  stderr = stats.sem(data)\n",
        "  interval = stderr * stats.t.ppf((1 + confidence) / 2., n - 1)\n",
        "  \n",
        "  return (interval)"
      ],
      "execution_count": 0,
      "outputs": []
    },
    {
      "cell_type": "markdown",
      "metadata": {
        "id": "AvqdnJjbE_yn",
        "colab_type": "text"
      },
      "source": [
        "#Bayesian Inference\n",
        "\n",
        "**Conditional Probability** - A measure of the probability of an event (some particular situation occurring) given that another event has occurred. $$P(A|B) = \\frac{P(A \\cap B)}{P(B)}$$\n",
        "\n",
        "**Bayes Theorem** - Describes the probability of an event, based on prior knowledge of conditions that might be related to the event. $$P(A|B) = \\frac{P(B|A)P(A)}{P(B)}$$  The probability of $A$ conditioned on $B$ is the probability of $B$ conditioned on $A$, times the probability of $A$ and divided by the probability of $B$. These unconditioned probabilities are referred to as \"prior beliefs\", and the conditioned probabilities as \"updated.\""
      ]
    },
    {
      "cell_type": "code",
      "metadata": {
        "id": "v5qq03AvzILp",
        "colab_type": "code",
        "colab": {}
      },
      "source": [
        "from scipy.stats import bayes_mvs\n",
        "\n",
        "bayes_mvs(df['feature'], alpha=.95)"
      ],
      "execution_count": 0,
      "outputs": []
    }
  ]
}