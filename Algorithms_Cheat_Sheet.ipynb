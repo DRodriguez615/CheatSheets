{
  "nbformat": 4,
  "nbformat_minor": 0,
  "metadata": {
    "colab": {
      "name": "Algorithms Cheat Sheet.ipynb",
      "provenance": [],
      "collapsed_sections": [],
      "include_colab_link": true
    },
    "kernelspec": {
      "name": "python3",
      "display_name": "Python 3"
    }
  },
  "cells": [
    {
      "cell_type": "markdown",
      "metadata": {
        "id": "view-in-github",
        "colab_type": "text"
      },
      "source": [
        "<a href=\"https://colab.research.google.com/github/bundickm/CheatSheets/blob/master/Algorithms_Cheat_Sheet.ipynb\" target=\"_parent\"><img src=\"https://colab.research.google.com/assets/colab-badge.svg\" alt=\"Open In Colab\"/></a>"
      ]
    },
    {
      "cell_type": "markdown",
      "metadata": {
        "id": "ikoM4BzGrhwW",
        "colab_type": "text"
      },
      "source": [
        "# Resources\n",
        "[Big-O Cheat Sheet](https://www.bigocheatsheet.com/)"
      ]
    },
    {
      "cell_type": "markdown",
      "metadata": {
        "id": "NRd88QCLPVRl",
        "colab_type": "text"
      },
      "source": [
        "# Sorting"
      ]
    },
    {
      "cell_type": "markdown",
      "metadata": {
        "id": "r8HPW5ZqPob0",
        "colab_type": "text"
      },
      "source": [
        "## Count Sort\n",
        "\n",
        "### Steps\n",
        "1. Take a count array to store the count of each unique object\n",
        "2. Modify the count array such that each element at each index \n",
        "  stores the sum of previous counts\n",
        "3. Output each object from the input sequence followed by \n",
        "  decreasing its count by 1\n",
        "\n",
        "### Runtime and Space\n",
        "-  Runtime: O(n+k) where n is the number of elements in input array and k is the range of input\n",
        "- Space: O(n+k)"
      ]
    },
    {
      "cell_type": "code",
      "metadata": {
        "id": "pz2p-4Pgkhl1",
        "colab_type": "code",
        "colab": {}
      },
      "source": [
        "def countSort(arr):\n",
        "    # The output character array that will have sorted arr \n",
        "    output = [0 for i in range(256)] \n",
        "  \n",
        "    # Create a count array to store count of inidividul \n",
        "    # characters and initialize count array as 0 \n",
        "    count = [0 for i in range(256)] \n",
        "  \n",
        "    # For storing the resulting answer since the  \n",
        "    # string is immutable \n",
        "    ans = [\"\" for _ in arr] \n",
        "  \n",
        "    # Store count of each character \n",
        "    for i in arr: \n",
        "        count[ord(i)] += 1\n",
        "  \n",
        "    # Change count[i] so that count[i] now contains actual \n",
        "    # position of this character in output array \n",
        "    for i in range(256): \n",
        "        count[i] += count[i-1] \n",
        "  \n",
        "    # Build the output character array \n",
        "    for i in range(len(arr)): \n",
        "        output[count[ord(arr[i])]-1] = arr[i] \n",
        "        count[ord(arr[i])] -= 1\n",
        "  \n",
        "    # Copy the output array to arr, so that arr now \n",
        "    # contains sorted characters \n",
        "    for i in range(len(arr)): \n",
        "        ans[i] = output[i] \n",
        "    return ans  "
      ],
      "execution_count": 0,
      "outputs": []
    },
    {
      "cell_type": "markdown",
      "metadata": {
        "id": "CnxwksPPPhEm",
        "colab_type": "text"
      },
      "source": [
        "##Merge Sort\n",
        "\n",
        "### Steps\n",
        "1. Split the array in half and sort each half\n",
        "2. Merge the two halves together\n",
        "3. Each half is sorted with the same steps down to single elements\n",
        "\n",
        "The merge method operates by copying all the elements from the target array segment into a helper array, keeping track of where the start of the left and right halves should be. We then iterate through, copying the smaller element from each half into the array. At the end, we copy any remaining elements into the target array.\n",
        "\n",
        "### Runtime and Space\n",
        "- Runtime: O(n log(n))\n",
        "- Space: O(n)"
      ]
    },
    {
      "cell_type": "code",
      "metadata": {
        "id": "UG874Fy2kGyy",
        "colab_type": "code",
        "colab": {}
      },
      "source": [
        "def mergeSort(arr): \n",
        "    if len(arr) >1: \n",
        "        mid = len(arr)//2 #Finding the mid of the array \n",
        "        L = arr[:mid] # Dividing the array elements  \n",
        "        R = arr[mid:] # into 2 halves \n",
        "  \n",
        "        mergeSort(L) # Sorting the first half \n",
        "        mergeSort(R) # Sorting the second half \n",
        "  \n",
        "        i = j = k = 0\n",
        "          \n",
        "        # Copy data to temp arrays L[] and R[] \n",
        "        while i < len(L) and j < len(R): \n",
        "            if L[i] < R[j]: \n",
        "                arr[k] = L[i] \n",
        "                i+=1\n",
        "            else: \n",
        "                arr[k] = R[j] \n",
        "                j+=1\n",
        "            k+=1\n",
        "          \n",
        "        # Checking if any element was left \n",
        "        while i < len(L): \n",
        "            arr[k] = L[i] \n",
        "            i+=1\n",
        "            k+=1\n",
        "          \n",
        "        while j < len(R): \n",
        "            arr[k] = R[j] \n",
        "            j+=1\n",
        "            k+=1"
      ],
      "execution_count": 0,
      "outputs": []
    },
    {
      "cell_type": "markdown",
      "metadata": {
        "id": "qMOlBx_DPYHb",
        "colab_type": "text"
      },
      "source": [
        "## Bubble Sort\n",
        "\n",
        "### Steps\n",
        "1. Start at the beggining of the array\n",
        "2. Swap the current element with the next element if the first is larger\n",
        "3. Move to the next pair and perform the above swap heuristic\n",
        "4. Repeat until a full sweep of the list without a swap\n",
        "\n",
        "### Runtime and Space\n",
        "- Runtime: O(n^2)\n",
        "- Space: O(1)"
      ]
    },
    {
      "cell_type": "code",
      "metadata": {
        "id": "RJ5AEN81mGQy",
        "colab_type": "code",
        "colab": {}
      },
      "source": [
        "def bubbleSort(arr): \n",
        "    n = len(arr) \n",
        "  \n",
        "    # Traverse through all array elements \n",
        "    for i in range(n): \n",
        "  \n",
        "        # Last i elements are already in place \n",
        "        for j in range(0, n-i-1): \n",
        "  \n",
        "            # traverse the array from 0 to n-i-1 \n",
        "            # Swap if the element found is greater \n",
        "            # than the next element \n",
        "            if arr[j] > arr[j+1] : \n",
        "                arr[j], arr[j+1] = arr[j+1], arr[j] "
      ],
      "execution_count": 0,
      "outputs": []
    },
    {
      "cell_type": "markdown",
      "metadata": {
        "id": "dDgbPc__PaSt",
        "colab_type": "text"
      },
      "source": [
        "## Selection Sort\n",
        "\n",
        "### Steps\n",
        "1. Look through the array for the smallest element\n",
        "2. Move the smallest element to the front by swapping it with the element in position 1\n",
        "3. Continue by swapping the next smallest element\n",
        "\n",
        "### Runtime and Space\n",
        "- Runtime: O(n^2)\n",
        "- Space: O(1)"
      ]
    },
    {
      "cell_type": "code",
      "metadata": {
        "id": "iHYU2gdWmKLJ",
        "colab_type": "code",
        "colab": {}
      },
      "source": [
        "# Traverse through all array elements \n",
        "for i in range(len(arr)): \n",
        "      \n",
        "    # Find the minimum element in remaining  \n",
        "    # unsorted array \n",
        "    min_idx = i \n",
        "    for j in range(i+1, len(arr)): \n",
        "        if A[min_idx] > arr[j]: \n",
        "            min_idx = j \n",
        "              \n",
        "    # Swap the found minimum element with  \n",
        "    # the first element         \n",
        "    arr[i], arr[min_idx] = arr[min_idx], arr[i] "
      ],
      "execution_count": 0,
      "outputs": []
    },
    {
      "cell_type": "markdown",
      "metadata": {
        "id": "6MuASfmkPcIr",
        "colab_type": "text"
      },
      "source": [
        "## Quick Sort\n",
        "\n",
        "### Steps\n",
        "1. Pick a random element\n",
        "2. Partition the array such that all numbers that are less than the element come before all elements that are greater than it. \n",
        "3. Each of the sub arrays can be sorted in a similar fashion\n",
        "\n",
        "### Runtime and Space\n",
        "- Runtime: O(n log(n)), worst case - O(n^2)\n",
        "- Space: O(log(n))"
      ]
    },
    {
      "cell_type": "code",
      "metadata": {
        "id": "fo4pRuMWjUMI",
        "colab_type": "code",
        "colab": {}
      },
      "source": [
        "def partition(arr,low,high): \n",
        "    i = ( low-1 )         # index of smaller element \n",
        "    pivot = arr[high]     # pivot \n",
        "  \n",
        "    for j in range(low , high): \n",
        "  \n",
        "        # If current element is smaller than the pivot \n",
        "        if   arr[j] < pivot: \n",
        "          \n",
        "            # increment index of smaller element \n",
        "            i = i+1 \n",
        "            arr[i],arr[j] = arr[j],arr[i] \n",
        "  \n",
        "    arr[i+1],arr[high] = arr[high],arr[i+1] \n",
        "    return ( i+1 ) \n",
        "  \n",
        "# The main function that implements QuickSort \n",
        "# arr[] --> Array to be sorted, \n",
        "# low  --> Starting index, \n",
        "# high  --> Ending index \n",
        "  \n",
        "# Function to do Quick sort \n",
        "def quickSort(arr,low,high): \n",
        "    if low < high: \n",
        "  \n",
        "        # pi is partitioning index, arr[p] is now \n",
        "        # at right place \n",
        "        pi = partition(arr,low,high) \n",
        "  \n",
        "        # Separately sort elements before \n",
        "        # partition and after partition \n",
        "        quickSort(arr, low, pi-1) \n",
        "        quickSort(arr, pi+1, high) "
      ],
      "execution_count": 0,
      "outputs": []
    },
    {
      "cell_type": "markdown",
      "metadata": {
        "id": "driyV94PPdZL",
        "colab_type": "text"
      },
      "source": [
        "## Insertion Sort\n",
        "\n",
        "### Steps\n",
        "1. If it is the first element, it is already sorted.\n",
        "2. Pick the next element.\n",
        "3. Compare with all the elements in sorted sub-list and insert at the correct position.\n",
        "4. Repeat until list is sorted.\n",
        "\n",
        "### Runtime and Space\n",
        "- Runtime: O(n^2)\n",
        "- Space: O(1)"
      ]
    },
    {
      "cell_type": "code",
      "metadata": {
        "id": "TEYjKpKsivOn",
        "colab_type": "code",
        "colab": {}
      },
      "source": [
        "def insertionSort(arr): \n",
        "    # Traverse through 1 to len(arr) \n",
        "    for i in range(1, len(arr)): \n",
        "        key = arr[i]\n",
        "        # Move elements of arr[0..i-1], that are \n",
        "        # greater than key, to one position ahead \n",
        "        # of their current position \n",
        "        j = i-1\n",
        "        while j >= 0 and key < arr[j] : \n",
        "                arr[j + 1] = arr[j] \n",
        "                j -= 1\n",
        "        arr[j + 1] = key "
      ],
      "execution_count": 0,
      "outputs": []
    },
    {
      "cell_type": "markdown",
      "metadata": {
        "id": "pykNFNNnm-Hb",
        "colab_type": "text"
      },
      "source": [
        "# Searching"
      ]
    },
    {
      "cell_type": "markdown",
      "metadata": {
        "id": "VmC5rw_5ngJQ",
        "colab_type": "text"
      },
      "source": [
        "## Linear Search\n",
        "\n",
        "### Steps\n",
        "1. Start from the leftmost element of arrary and one by one compare x with each element of the array\n",
        "2. If x matches with an element, return the index.\n",
        "3. If x doesn’t match with any of elements, return -1\n",
        "\n",
        "### Runtime and Space\n",
        "- Runtime: O(n)\n",
        "- Space: O(1)"
      ]
    },
    {
      "cell_type": "markdown",
      "metadata": {
        "id": "-G5UyYSynDlk",
        "colab_type": "text"
      },
      "source": [
        "## Binary Search\n",
        "\n",
        "### Steps\n",
        "1. Start with a sorted array\n",
        "2. Compare the search term to the middle value in the array\n",
        "3. If the array is less than the middle value, search the lower half, else search the upper half\n",
        "4. Repeat on the subarrays until the middle value is equal to the search term\n",
        "\n",
        "### Runtime and Space\n",
        "- Runtime: O(log(n))\n",
        "- Space: O(1)"
      ]
    },
    {
      "cell_type": "code",
      "metadata": {
        "id": "WeFk-Nxsp81h",
        "colab_type": "code",
        "colab": {}
      },
      "source": [
        "def binarySearch(arr, l, r, x): \n",
        "    while l <= r: \n",
        "        mid = l + (r - l)/2; \n",
        "          \n",
        "        # Check if x is present at mid \n",
        "        if arr[mid] == x: \n",
        "            return mid \n",
        "        # If x is greater, ignore left half \n",
        "        elif arr[mid] < x: \n",
        "            l = mid + 1\n",
        "        # If x is smaller, ignore right half \n",
        "        else: \n",
        "            r = mid - 1\n",
        "    # If we reach here, then the element \n",
        "    # was not present \n",
        "    return -1"
      ],
      "execution_count": 0,
      "outputs": []
    }
  ]
}